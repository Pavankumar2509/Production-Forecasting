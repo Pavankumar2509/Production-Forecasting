{
 "cells": [
  {
   "cell_type": "markdown",
   "id": "bb1ca087-2e91-45b3-ac77-3f04068573d0",
   "metadata": {},
   "source": [
    "## **Step - 1**\n",
    "# **Data Pre-Proprocessing**\n",
    "---\n",
    "<p>-> In the first step, we are going to prepare a dataset</p>\n",
    "<p> -> After collecting a dataset we should make it usable for training</p>\n",
    "<p> -> This was sub-divided into steps</p>\n",
    "\n"
   ]
  },
  {
   "cell_type": "code",
   "execution_count": 4,
   "id": "65c09cf9-384a-4b84-bea0-cc5bd2ce38bf",
   "metadata": {},
   "outputs": [],
   "source": [
    "import pandas as pd\n",
    "\n",
    "data = pd.read_csv('data.csv')\n",
    "\n",
    "if 'SUM(SALES_VALUE_TOT)' in data.columns:\n",
    "    data.drop(columns=['SUM(SALES_VALUE_TOT)'], inplace=True)\n",
    "data.to_csv('modified_dataset.csv', index=False)\n"
   ]
  },
  {
   "cell_type": "code",
   "execution_count": 6,
   "id": "ecd557d5-1a0d-4fa9-9dc5-062b4f293479",
   "metadata": {},
   "outputs": [
    {
     "name": "stdout",
     "output_type": "stream",
     "text": [
      "       Unnamed: 0 YEAR_MONTH    MATERIAL_CODE  SUM(A.SALES_QTY_TOT)\n",
      "0             NaN        May  451100036400700                380.65\n",
      "1             NaN        May  171612565130200               3251.36\n",
      "2             NaN        May  471307508130200               1151.56\n",
      "3             NaN        May  171409090410100                188.10\n",
      "4             NaN        May        611100716               1178.28\n",
      "...           ...        ...              ...                   ...\n",
      "19100         NaN    October  505006615700668                342.00\n",
      "19101         NaN       June        614330200                 28.90\n",
      "19102         NaN       June  171407777410300                 31.65\n",
      "19103         NaN   February        614100600                105.90\n",
      "19104         NaN   February  451200020800305                 58.92\n",
      "\n",
      "[19105 rows x 4 columns]\n"
     ]
    }
   ],
   "source": [
    "import pandas as pd\n",
    "df = pd.read_csv('modified_dataset.csv')\n",
    "df['YEAR_MONTH'] = pd.to_datetime(df['YEAR_MONTH'])\n",
    "df['YEAR_MONTH'] = df['YEAR_MONTH'].dt.strftime('%B')\n",
    "print(df)\n",
    "df.to_csv('modified_dataset_month.csv', index=False)\n"
   ]
  },
  {
   "cell_type": "code",
   "execution_count": 7,
   "id": "bc025cb0-fae9-4060-b282-46ffb13bef55",
   "metadata": {},
   "outputs": [],
   "source": [
    "import pandas as pd\n",
    "\n",
    "df = pd.read_csv('modified_dataset_month.csv')\n",
    "df = df.iloc[:, 1:]\n",
    "df.to_csv('modified_dataset_shifted.csv', index=False)\n"
   ]
  },
  {
   "cell_type": "code",
   "execution_count": 8,
   "id": "8eb31f5b-eaa4-4e54-954a-8e8e244a7b92",
   "metadata": {},
   "outputs": [],
   "source": [
    "import pandas as pd\n",
    "df = pd.read_csv('modified_dataset_shifted.csv')\n",
    "df['MATERIAL_CODE'] = df['MATERIAL_CODE'].sort_values()\n",
    "df.reset_index(drop=True, inplace=True)\n",
    "df.to_csv('sorted_dataset.csv', index=False)\n"
   ]
  },
  {
   "cell_type": "markdown",
   "id": "9dcab215-278a-4686-9ea0-40b4575bb792",
   "metadata": {},
   "source": [
    "## **Step - 2**\n",
    "# **Training**\n",
    "---"
   ]
  },
  {
   "cell_type": "code",
   "execution_count": 28,
   "id": "9804f1f5-df49-4dba-a86d-3e2da59a54d5",
   "metadata": {},
   "outputs": [
    {
     "name": "stdout",
     "output_type": "stream",
     "text": [
      "Mean Squared Error: 29163749.513326317\n"
     ]
    }
   ],
   "source": [
    "import pandas as pd\n",
    "from sklearn.model_selection import train_test_split\n",
    "from sklearn.preprocessing import LabelEncoder\n",
    "import xgboost as xgb\n",
    "from sklearn.metrics import mean_squared_error\n",
    "\n",
    "# Load your dataset\n",
    "df = pd.read_csv('sorted_dataset.csv')\n",
    "\n",
    "# Encode the categorical columns (YEAR_MONTH and MATERIAL_CODE)\n",
    "label_encoder_month = LabelEncoder()\n",
    "label_encoder_material = LabelEncoder()\n",
    "\n",
    "df['YEAR_MONTH'] = label_encoder_month.fit_transform(df['YEAR_MONTH'])\n",
    "df['MATERIAL_CODE'] = label_encoder_material.fit_transform(df['MATERIAL_CODE'])\n",
    "\n",
    "# Split the dataset into training and testing sets\n",
    "X = df[['YEAR_MONTH', 'MATERIAL_CODE']]\n",
    "y = df['SUM(A.SALES_QTY_TOT)']\n",
    "\n",
    "X_train, X_test, y_train, y_test = train_test_split(X, y, test_size=0.2, random_state=42)\n",
    "\n",
    "# Create and train an XGBoost regressor model\n",
    "model = xgb.XGBRegressor(objective='reg:squarederror', random_state=42)\n",
    "model.fit(X_train, y_train)\n",
    "\n",
    "# Make predictions on the test set\n",
    "y_pred = model.predict(X_test)\n",
    "\n",
    "# Evaluate the model using Mean Squared Error (MSE)\n",
    "mse = mean_squared_error(y_test, y_pred)\n",
    "print(f\"Mean Squared Error: {mse}\")\n",
    "\n",
    "# Now, you can use this trained model to make predictions for new data.\n",
    "# You can also save the model for future use using joblib or pickle.\n"
   ]
  },
  {
   "cell_type": "code",
   "execution_count": 29,
   "id": "3658b262-9403-4e5b-860a-dd885e4fff5e",
   "metadata": {},
   "outputs": [
    {
     "name": "stdout",
     "output_type": "stream",
     "text": [
      "Mean Squared Error (MSE): 29163749.513326317\n",
      "Mean Absolute Error (MAE): 1230.8926465112654\n",
      "R-squared (R2) Score: 0.6621809247453083\n"
     ]
    }
   ],
   "source": [
    "from sklearn.metrics import mean_absolute_error, r2_score\n",
    "\n",
    "# Calculate additional evaluation metrics\n",
    "mae = mean_absolute_error(y_test, y_pred)\n",
    "r2 = r2_score(y_test, y_pred)\n",
    "\n",
    "# Print the evaluation metrics\n",
    "print(f\"Mean Squared Error (MSE): {mse}\")\n",
    "print(f\"Mean Absolute Error (MAE): {mae}\")\n",
    "print(f\"R-squared (R2) Score: {r2}\")\n"
   ]
  },
  {
   "cell_type": "code",
   "execution_count": 30,
   "id": "05ebdfae-2dda-459d-b30c-aa36744b63e0",
   "metadata": {},
   "outputs": [
    {
     "name": "stdout",
     "output_type": "stream",
     "text": [
      "Model saved to xgboost_regression_model.pkl\n"
     ]
    }
   ],
   "source": [
    "import joblib\n",
    "\n",
    "# Save the trained model to a file\n",
    "model_filename = 'xgboost_regression_model.pkl'\n",
    "joblib.dump(model, model_filename)\n",
    "\n",
    "print(f\"Model saved to {model_filename}\")\n"
   ]
  },
  {
   "cell_type": "code",
   "execution_count": 33,
   "id": "3280f591-d70a-4ba5-b9ec-218ddcd487ad",
   "metadata": {},
   "outputs": [
    {
     "data": {
      "text/plain": [
       "['label_encoder_material.pkl']"
      ]
     },
     "execution_count": 33,
     "metadata": {},
     "output_type": "execute_result"
    }
   ],
   "source": [
    "# Example code to create and save label encoders for YEAR_MONTH and MATERIAL_CODE\n",
    "from sklearn.preprocessing import LabelEncoder\n",
    "import joblib\n",
    "\n",
    "# Load your dataset\n",
    "df = pd.read_csv('sorted_dataset.csv')\n",
    "\n",
    "# Create label encoders for YEAR_MONTH and MATERIAL_CODE\n",
    "label_encoder_month = LabelEncoder()\n",
    "label_encoder_material = LabelEncoder()\n",
    "\n",
    "label_encoder_month.fit(df['YEAR_MONTH'])\n",
    "label_encoder_material.fit(df['MATERIAL_CODE'])\n",
    "\n",
    "# Save label encoders to files\n",
    "joblib.dump(label_encoder_month, 'label_encoder_month.pkl')\n",
    "joblib.dump(label_encoder_material, 'label_encoder_material.pkl')\n"
   ]
  },
  {
   "cell_type": "code",
   "execution_count": 32,
   "id": "b437258d-6296-4ffd-9af6-53560ce4ee54",
   "metadata": {},
   "outputs": [
    {
     "name": "stdout",
     "output_type": "stream",
     "text": [
      "Predicted SUM(A.SALES_QTY_TOT):\n",
      "274.04794\n",
      "2556.5442\n"
     ]
    }
   ],
   "source": [
    "import pandas as pd\n",
    "from sklearn.preprocessing import LabelEncoder\n",
    "import joblib\n",
    "\n",
    "# Load the saved model\n",
    "model_filename = 'xgboost_regression_model.pkl'\n",
    "loaded_model = joblib.load(model_filename)\n",
    "\n",
    "# Prepare your data for prediction\n",
    "# Example data for prediction (you can replace this with your own data)\n",
    "data_to_predict = pd.DataFrame({\n",
    "    'YEAR_MONTH': ['January', 'February'],\n",
    "    'MATERIAL_CODE': ['451100036400700', '171612565130200']\n",
    "})\n",
    "\n",
    "# Encode the categorical columns (YEAR_MONTH and MATERIAL_CODE)\n",
    "# Use the same label encoders you used during training\n",
    "data_to_predict['YEAR_MONTH'] = label_encoder_month.transform(data_to_predict['YEAR_MONTH'])\n",
    "data_to_predict['MATERIAL_CODE'] = label_encoder_material.transform(data_to_predict['MATERIAL_CODE'])\n",
    "\n",
    "# Make predictions using the loaded model\n",
    "predictions = loaded_model.predict(data_to_predict)\n",
    "\n",
    "# Print the predictions\n",
    "print(\"Predicted SUM(A.SALES_QTY_TOT):\")\n",
    "for prediction in predictions:\n",
    "    print(prediction)\n"
   ]
  }
 ],
 "metadata": {
  "kernelspec": {
   "display_name": "Python 3.9 (pytorch)",
   "language": "python",
   "name": "pytorch"
  },
  "language_info": {
   "codemirror_mode": {
    "name": "ipython",
    "version": 3
   },
   "file_extension": ".py",
   "mimetype": "text/x-python",
   "name": "python",
   "nbconvert_exporter": "python",
   "pygments_lexer": "ipython3",
   "version": "3.9.16"
  }
 },
 "nbformat": 4,
 "nbformat_minor": 5
}
